{
 "cells": [
  {
   "cell_type": "markdown",
   "metadata": {},
   "source": [
    "# Welcome to Web Scraping"
   ]
  },
  {
   "cell_type": "markdown",
   "metadata": {},
   "source": [
    "In this assignment, we are going to web scrape a website and obtain a dataframe at the end using various methods."
   ]
  },
  {
   "cell_type": "markdown",
   "metadata": {},
   "source": [
    "We begin by importing the necessary packages."
   ]
  },
  {
   "cell_type": "markdown",
   "metadata": {},
   "source": [
    "- For information on BeautifulSoup, please see [This](https://www.crummy.com/software/BeautifulSoup/bs4/doc/#insert-before-and-insert-after)"
   ]
  },
  {
   "cell_type": "code",
   "execution_count": 1,
   "metadata": {},
   "outputs": [],
   "source": [
    "import pandas as pd\n",
    "import urllib.request\n",
    "import requests as requests\n",
    "from bs4 import BeautifulSoup"
   ]
  },
  {
   "cell_type": "markdown",
   "metadata": {},
   "source": [
    "As you can see, BeautifulSoup is really powerful.\n",
    "\n",
    "- We copy and paste the link\n",
    "- We import urllib.request to view the data\n",
    "- We use BeautifulSoup to parse our data into something neat"
   ]
  },
  {
   "cell_type": "code",
   "execution_count": 2,
   "metadata": {},
   "outputs": [],
   "source": [
    "firstUrl = \"http://quotes.toscrape.com\"\n",
    "firstpage = urllib.request.urlopen(firstUrl).read()\n",
    "soup = BeautifulSoup(firstpage)"
   ]
  },
  {
   "cell_type": "markdown",
   "metadata": {},
   "source": [
    "## Lines 3-5"
   ]
  },
  {
   "cell_type": "markdown",
   "metadata": {},
   "source": [
    "My goal right now is the following:\n",
    "\n",
    "- Extract each column from every page\n",
    "- To do this, there's no doubt that we need to loop multiple times to  extract multiple pages\n",
    "- We also need to extract all quotes, tags, and author information as we loop every page\n",
    "- Once we obtain the text, we append it to a dictionary\n",
    "- Comments for line 3 apply exactly the same for line 4"
   ]
  },
  {
   "cell_type": "code",
   "execution_count": 3,
   "metadata": {},
   "outputs": [],
   "source": [
    "allQuote = [] # empty dictionary\n",
    "firstUrl = \"http://quotes.toscrape.com\"\n",
    "firstPage = firstUrl\n",
    "\n",
    "while True: # loop multiple pages\n",
    "    firstPageContent = urllib.request.urlopen(firstPage).read()\n",
    "    soup = BeautifulSoup(firstPageContent)\n",
    "    \n",
    "    nextPage = soup.find(class_='next') # find the class next\n",
    "    if nextPage is None: # solution to Nonetype Error\n",
    "        break\n",
    "    else:\n",
    "        firstPage = firstUrl + nextPage.a.get(\"href\") # extract the pages\n",
    "        quotes = soup.find_all(class_='text') # find all with class text\n",
    "        for quote in quotes:\n",
    "            quotesauthors = quote.text # we take the ones with text only\n",
    "            allQuote.append(quotesauthors) # append all quotes to dictionary"
   ]
  },
  {
   "cell_type": "code",
   "execution_count": 4,
   "metadata": {},
   "outputs": [],
   "source": [
    "allTag = []\n",
    "firstUrl = \"http://quotes.toscrape.com\"\n",
    "firstPage = firstUrl\n",
    "\n",
    "while True:\n",
    "    firstPageContent = urllib.request.urlopen(firstPage).read()\n",
    "    soup = BeautifulSoup(firstPageContent)\n",
    "    \n",
    "    nextPage = soup.find(class_='next')\n",
    "    if nextPage is None:\n",
    "        break\n",
    "    else:\n",
    "        firstPage = firstUrl + nextPage.a.get(\"href\")\n",
    "        tags = soup.find_all(class_='tags')\n",
    "        for tag in tags:\n",
    "            quotestag = tag.text\n",
    "            allTag.append(quotestag)"
   ]
  },
  {
   "cell_type": "markdown",
   "metadata": {},
   "source": [
    "## Loop within a loop"
   ]
  },
  {
   "cell_type": "markdown",
   "metadata": {},
   "source": [
    "Here's the similarity:\n",
    "\n",
    "- Four empty dictionaries for exactly the same reason as before\n",
    "- We're looping exactly the same number of iterations\n",
    "\n",
    "Here's the difference:\n",
    "\n",
    "- For every quote, there exists information for the author that can be found using a hyperlink.\n",
    "- We have to extract all information from each hyperlink"
   ]
  },
  {
   "cell_type": "code",
   "execution_count": 5,
   "metadata": {},
   "outputs": [],
   "source": [
    "allTitle = []\n",
    "allBirth = []\n",
    "allLocation = []\n",
    "allDescription = []\n",
    "firstUrl = \"http://quotes.toscrape.com\"\n",
    "firstPage = firstUrl\n",
    "\n",
    "while True:\n",
    "    firstPageContent = urllib.request.urlopen(firstPage).read()\n",
    "    soup = BeautifulSoup(firstPageContent)\n",
    "    \n",
    "    nextPage = soup.find(class_='next')\n",
    "    if nextPage is None:\n",
    "        break\n",
    "    else:\n",
    "        firstPage = firstUrl + nextPage.a.get(\"href\") # Multiple iterations end here\n",
    "        for link in soup.findAll(class_='quote'): # We extract class quote\n",
    "            if link.a.get('href') == None: # We want hyperlink by solution of nonetype error\n",
    "                continue\n",
    "            else:\n",
    "                infoUrl = firstUrl + link.a.get(\"href\")\n",
    "                infoPage = urllib.request.urlopen(infoUrl).read()\n",
    "                infoSoup = BeautifulSoup(infoPage) # New variable functions just like soup except it's for the hyperlink\n",
    "                title = infoSoup.find(class_=\"author-title\").text\n",
    "                birth = infoSoup.find(class_=\"author-born-date\").text\n",
    "                location = infoSoup.find(class_=\"author-born-location\").text\n",
    "                description = infoSoup.find(class_=\"author-description\").text # we find the class and extract the text\n",
    "                allTitle.append(title)\n",
    "                allBirth.append(birth)\n",
    "                allLocation.append(location)\n",
    "                allDescription.append(description) # we append each column to each dictionary like before"
   ]
  },
  {
   "cell_type": "markdown",
   "metadata": {},
   "source": [
    "## Dictionary within a dictionary"
   ]
  },
  {
   "cell_type": "markdown",
   "metadata": {},
   "source": [
    "Here are the final steps:\n",
    "\n",
    "- We appended the empty dictionaries for a reason\n",
    "- Now that we have all the values, we make column names and form a bigger dictionary that takes each of the corresponding columns\n",
    "- The beauty of pandas is that we can transform a dictionary into a dataframe\n",
    "- Information on orient = 'index', you can find [here](https://pandas.pydata.org/pandas-docs/stable/reference/api/pandas.DataFrame.from_dict.html)"
   ]
  },
  {
   "cell_type": "code",
   "execution_count": 6,
   "metadata": {},
   "outputs": [
    {
     "data": {
      "text/html": [
       "<div>\n",
       "<style scoped>\n",
       "    .dataframe tbody tr th:only-of-type {\n",
       "        vertical-align: middle;\n",
       "    }\n",
       "\n",
       "    .dataframe tbody tr th {\n",
       "        vertical-align: top;\n",
       "    }\n",
       "\n",
       "    .dataframe thead th {\n",
       "        text-align: right;\n",
       "    }\n",
       "</style>\n",
       "<table border=\"1\" class=\"dataframe\">\n",
       "  <thead>\n",
       "    <tr style=\"text-align: right;\">\n",
       "      <th></th>\n",
       "      <th>Quote</th>\n",
       "      <th>Tag</th>\n",
       "      <th>Title</th>\n",
       "      <th>Birth</th>\n",
       "      <th>Location</th>\n",
       "      <th>Description</th>\n",
       "    </tr>\n",
       "  </thead>\n",
       "  <tbody>\n",
       "    <tr>\n",
       "      <th>0</th>\n",
       "      <td>“The world as we have created it is a process ...</td>\n",
       "      <td>\\n            Tags:\\n            \\nchange\\ndee...</td>\n",
       "      <td>Albert Einstein</td>\n",
       "      <td>March 14, 1879</td>\n",
       "      <td>in Ulm, Germany</td>\n",
       "      <td>\\n        In 1879, Albert Einstein was born in...</td>\n",
       "    </tr>\n",
       "    <tr>\n",
       "      <th>1</th>\n",
       "      <td>“It is our choices, Harry, that show what we t...</td>\n",
       "      <td>\\n            Tags:\\n            \\nabilities\\n...</td>\n",
       "      <td>J.K. Rowling</td>\n",
       "      <td>July 31, 1965</td>\n",
       "      <td>in Yate, South Gloucestershire, England, The U...</td>\n",
       "      <td>\\n        See also: Robert GalbraithAlthough s...</td>\n",
       "    </tr>\n",
       "    <tr>\n",
       "      <th>2</th>\n",
       "      <td>“There are only two ways to live your life. On...</td>\n",
       "      <td>\\n            Tags:\\n            \\ninspiration...</td>\n",
       "      <td>Albert Einstein</td>\n",
       "      <td>March 14, 1879</td>\n",
       "      <td>in Ulm, Germany</td>\n",
       "      <td>\\n        In 1879, Albert Einstein was born in...</td>\n",
       "    </tr>\n",
       "    <tr>\n",
       "      <th>3</th>\n",
       "      <td>“The person, be it gentleman or lady, who has ...</td>\n",
       "      <td>\\n            Tags:\\n            \\naliteracy\\n...</td>\n",
       "      <td>Jane Austen</td>\n",
       "      <td>December 16, 1775</td>\n",
       "      <td>in Steventon Rectory, Hampshire, The United Ki...</td>\n",
       "      <td>\\n        Jane Austen was an English novelist ...</td>\n",
       "    </tr>\n",
       "    <tr>\n",
       "      <th>4</th>\n",
       "      <td>“Imperfection is beauty, madness is genius and...</td>\n",
       "      <td>\\n            Tags:\\n            \\nbe-yourself...</td>\n",
       "      <td>Marilyn Monroe</td>\n",
       "      <td>June 01, 1926</td>\n",
       "      <td>in The United States</td>\n",
       "      <td>\\n        Marilyn Monroe (born Norma Jeane Mor...</td>\n",
       "    </tr>\n",
       "    <tr>\n",
       "      <th>...</th>\n",
       "      <td>...</td>\n",
       "      <td>...</td>\n",
       "      <td>...</td>\n",
       "      <td>...</td>\n",
       "      <td>...</td>\n",
       "      <td>...</td>\n",
       "    </tr>\n",
       "    <tr>\n",
       "      <th>85</th>\n",
       "      <td>“Some day you will be old enough to start read...</td>\n",
       "      <td>\\n            Tags:\\n            \\nage\\nfairyt...</td>\n",
       "      <td>C.S. Lewis</td>\n",
       "      <td>November 29, 1898</td>\n",
       "      <td>in Belfast, Ireland</td>\n",
       "      <td>\\n        CLIVE STAPLES LEWIS (1898–1963) was ...</td>\n",
       "    </tr>\n",
       "    <tr>\n",
       "      <th>86</th>\n",
       "      <td>“We are not necessarily doubting that God will...</td>\n",
       "      <td>\\n            Tags:\\n            \\ngod\\n</td>\n",
       "      <td>C.S. Lewis</td>\n",
       "      <td>November 29, 1898</td>\n",
       "      <td>in Belfast, Ireland</td>\n",
       "      <td>\\n        CLIVE STAPLES LEWIS (1898–1963) was ...</td>\n",
       "    </tr>\n",
       "    <tr>\n",
       "      <th>87</th>\n",
       "      <td>“The fear of death follows from the fear of li...</td>\n",
       "      <td>\\n            Tags:\\n            \\ndeath\\nlife\\n</td>\n",
       "      <td>Mark Twain</td>\n",
       "      <td>November 30, 1835</td>\n",
       "      <td>in Florida, Missouri, The United States</td>\n",
       "      <td>\\n        Samuel Langhorne Clemens, better kno...</td>\n",
       "    </tr>\n",
       "    <tr>\n",
       "      <th>88</th>\n",
       "      <td>“A lie can travel half way around the world wh...</td>\n",
       "      <td>\\n            Tags:\\n            \\nmisattribut...</td>\n",
       "      <td>Mark Twain</td>\n",
       "      <td>November 30, 1835</td>\n",
       "      <td>in Florida, Missouri, The United States</td>\n",
       "      <td>\\n        Samuel Langhorne Clemens, better kno...</td>\n",
       "    </tr>\n",
       "    <tr>\n",
       "      <th>89</th>\n",
       "      <td>“I believe in Christianity as I believe that t...</td>\n",
       "      <td>\\n            Tags:\\n            \\nchristianit...</td>\n",
       "      <td>C.S. Lewis</td>\n",
       "      <td>November 29, 1898</td>\n",
       "      <td>in Belfast, Ireland</td>\n",
       "      <td>\\n        CLIVE STAPLES LEWIS (1898–1963) was ...</td>\n",
       "    </tr>\n",
       "  </tbody>\n",
       "</table>\n",
       "<p>90 rows × 6 columns</p>\n",
       "</div>"
      ],
      "text/plain": [
       "                                                Quote  \\\n",
       "0   “The world as we have created it is a process ...   \n",
       "1   “It is our choices, Harry, that show what we t...   \n",
       "2   “There are only two ways to live your life. On...   \n",
       "3   “The person, be it gentleman or lady, who has ...   \n",
       "4   “Imperfection is beauty, madness is genius and...   \n",
       "..                                                ...   \n",
       "85  “Some day you will be old enough to start read...   \n",
       "86  “We are not necessarily doubting that God will...   \n",
       "87  “The fear of death follows from the fear of li...   \n",
       "88  “A lie can travel half way around the world wh...   \n",
       "89  “I believe in Christianity as I believe that t...   \n",
       "\n",
       "                                                  Tag            Title  \\\n",
       "0   \\n            Tags:\\n            \\nchange\\ndee...  Albert Einstein   \n",
       "1   \\n            Tags:\\n            \\nabilities\\n...     J.K. Rowling   \n",
       "2   \\n            Tags:\\n            \\ninspiration...  Albert Einstein   \n",
       "3   \\n            Tags:\\n            \\naliteracy\\n...      Jane Austen   \n",
       "4   \\n            Tags:\\n            \\nbe-yourself...   Marilyn Monroe   \n",
       "..                                                ...              ...   \n",
       "85  \\n            Tags:\\n            \\nage\\nfairyt...       C.S. Lewis   \n",
       "86           \\n            Tags:\\n            \\ngod\\n       C.S. Lewis   \n",
       "87   \\n            Tags:\\n            \\ndeath\\nlife\\n       Mark Twain   \n",
       "88  \\n            Tags:\\n            \\nmisattribut...       Mark Twain   \n",
       "89  \\n            Tags:\\n            \\nchristianit...       C.S. Lewis   \n",
       "\n",
       "                Birth                                           Location  \\\n",
       "0      March 14, 1879                                    in Ulm, Germany   \n",
       "1       July 31, 1965  in Yate, South Gloucestershire, England, The U...   \n",
       "2      March 14, 1879                                    in Ulm, Germany   \n",
       "3   December 16, 1775  in Steventon Rectory, Hampshire, The United Ki...   \n",
       "4       June 01, 1926                               in The United States   \n",
       "..                ...                                                ...   \n",
       "85  November 29, 1898                                in Belfast, Ireland   \n",
       "86  November 29, 1898                                in Belfast, Ireland   \n",
       "87  November 30, 1835            in Florida, Missouri, The United States   \n",
       "88  November 30, 1835            in Florida, Missouri, The United States   \n",
       "89  November 29, 1898                                in Belfast, Ireland   \n",
       "\n",
       "                                          Description  \n",
       "0   \\n        In 1879, Albert Einstein was born in...  \n",
       "1   \\n        See also: Robert GalbraithAlthough s...  \n",
       "2   \\n        In 1879, Albert Einstein was born in...  \n",
       "3   \\n        Jane Austen was an English novelist ...  \n",
       "4   \\n        Marilyn Monroe (born Norma Jeane Mor...  \n",
       "..                                                ...  \n",
       "85  \\n        CLIVE STAPLES LEWIS (1898–1963) was ...  \n",
       "86  \\n        CLIVE STAPLES LEWIS (1898–1963) was ...  \n",
       "87  \\n        Samuel Langhorne Clemens, better kno...  \n",
       "88  \\n        Samuel Langhorne Clemens, better kno...  \n",
       "89  \\n        CLIVE STAPLES LEWIS (1898–1963) was ...  \n",
       "\n",
       "[90 rows x 6 columns]"
      ]
     },
     "execution_count": 6,
     "metadata": {},
     "output_type": "execute_result"
    }
   ],
   "source": [
    "data = {'Quote':allQuote,'Tag':allTag,'Title':allTitle,'Birth':allBirth,'Location':allLocation,'Description':allDescription}\n",
    "Mydata = pd.DataFrame.from_dict(data, orient='index')\n",
    "Mydata2 = Mydata.transpose() # Original was columns to rows so transpose switches them up\n",
    "Mydata2 # We have a shape of (90,6) so 90 observations and 6 columns"
   ]
  },
  {
   "cell_type": "code",
   "execution_count": 7,
   "metadata": {},
   "outputs": [],
   "source": [
    "Mydata2.to_csv(\"../data/raw/Mydata.csv\")"
   ]
  },
  {
   "cell_type": "code",
   "execution_count": 8,
   "metadata": {},
   "outputs": [],
   "source": [
    "Mydata2.to_excel(\"../data/raw/Mydata.xlsx\")"
   ]
  }
 ],
 "metadata": {
  "kernelspec": {
   "display_name": "Python 3",
   "language": "python",
   "name": "python3"
  },
  "language_info": {
   "codemirror_mode": {
    "name": "ipython",
    "version": 3
   },
   "file_extension": ".py",
   "mimetype": "text/x-python",
   "name": "python",
   "nbconvert_exporter": "python",
   "pygments_lexer": "ipython3",
   "version": "3.6.10"
  }
 },
 "nbformat": 4,
 "nbformat_minor": 4
}
